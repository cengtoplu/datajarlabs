{
 "cells": [
  {
   "cell_type": "markdown",
   "metadata": {},
   "source": [
    "**Soru**\n",
    "\n",
    "A şirketinin sattığı bilgisayarın bazılarının bozuk olduğu tespit edilmiştir. Bilgisayar üreten 3 şirket (A, B ve C) olduğu varsayımı altında, bu şirketlerin bilgisayar üretim miktarı ve bozuk üretim olasılıkları şu şekildedir:\n",
    "\n",
    "    Toplam Üretim Yüzdesi P(A)=0.40 P(B)=0.40 P(C)=0.20\n",
    "\n",
    "    Hatalı Üretim Olasılığı\n",
    "\n",
    "    P(D|A)=0.015 P(D|B)=0.020 P(D|C)=0.010\n",
    "\n",
    "Rastgele seçilen bozuk bir bilgisayarın B şirketi tarafından üretilme olasılığı nedir?"
   ]
  },
  {
   "cell_type": "markdown",
   "metadata": {},
   "source": [
    "**Cevap**"
   ]
  },
  {
   "cell_type": "code",
   "execution_count": 16,
   "metadata": {},
   "outputs": [],
   "source": [
    "PB = 0.4"
   ]
  },
  {
   "cell_type": "code",
   "execution_count": 17,
   "metadata": {},
   "outputs": [],
   "source": [
    "PDB = 0.2"
   ]
  },
  {
   "cell_type": "code",
   "execution_count": 18,
   "metadata": {},
   "outputs": [],
   "source": [
    "PBB = PB * PDB"
   ]
  },
  {
   "cell_type": "code",
   "execution_count": 19,
   "metadata": {},
   "outputs": [
    {
     "data": {
      "text/plain": [
       "0.08000000000000002"
      ]
     },
     "execution_count": 19,
     "metadata": {},
     "output_type": "execute_result"
    }
   ],
   "source": [
    "PBB"
   ]
  }
 ],
 "metadata": {
  "kernelspec": {
   "display_name": "Python 3",
   "language": "python",
   "name": "python3"
  },
  "language_info": {
   "codemirror_mode": {
    "name": "ipython",
    "version": 3
   },
   "file_extension": ".py",
   "mimetype": "text/x-python",
   "name": "python",
   "nbconvert_exporter": "python",
   "pygments_lexer": "ipython3",
   "version": "3.7.4"
  }
 },
 "nbformat": 4,
 "nbformat_minor": 2
}
